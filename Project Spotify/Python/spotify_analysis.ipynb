{
 "cells": [
  {
   "cell_type": "code",
   "execution_count": null,
   "id": "0abcbef1-a2ac-4ed9-8347-58acb606a10c",
   "metadata": {},
   "outputs": [],
   "source": [
    "import numpy as np\n",
    "import pandas as pd\n",
    "import matplotlib.pyplot as plt\n",
    "import seaborn as sns"
   ]
  },
  {
   "cell_type": "code",
   "execution_count": null,
   "id": "1a1f82d5-f027-4357-914b-2253e68ac901",
   "metadata": {},
   "outputs": [],
   "source": [
    "spotify = pd.read_csv(\"C:/Users/VIVEK/OneDrive/Desktop/Data Analytics Project/Project Spotify/spotify-2023.csv\", encoding='ISO-8859-1')"
   ]
  },
  {
   "cell_type": "code",
   "execution_count": null,
   "id": "5b44a3d9-ea7a-4798-877c-c987feb38d7e",
   "metadata": {},
   "outputs": [],
   "source": [
    "pd.set_option(\"display.max_columns\", None)\n",
    "spotify.head()"
   ]
  },
  {
   "cell_type": "code",
   "execution_count": null,
   "id": "cba582d5-c354-4f2b-a58f-6d658408a044",
   "metadata": {},
   "outputs": [],
   "source": [
    "spotify.dtypes"
   ]
  },
  {
   "cell_type": "code",
   "execution_count": null,
   "id": "2f7b7ae6-bbca-4fad-b127-7a5506a2501c",
   "metadata": {},
   "outputs": [],
   "source": []
  },
  {
   "cell_type": "code",
   "execution_count": null,
   "id": "27d3374b-e475-406b-ac1b-38b37d6f6eb3",
   "metadata": {},
   "outputs": [],
   "source": [
    "spotify[\"released_year\"] = spotify[\"released_year\"].astype(str)\n",
    "spotify[\"released_month\"] = spotify[\"released_month\"].astype(str).str.zfill(2)\n",
    "spotify[\"released_day\"] = spotify[\"released_day\"].astype(str).str.zfill(2)\n",
    "spotify.dtypes\n",
    "\n",
    "spotify[\"released_date\"] = spotify[\"released_year\"] + \"-\" + spotify[\"released_month\"] + \"-\" + spotify[\"released_day\"]\n",
    "spotify[\"released_date\"] = pd.to_datetime(spotify[\"released_date\"])\n",
    "spotify.dtypes\n",
    "\n",
    "spotify.drop(['released_year', 'released_month', 'released_day'], axis = 1, inplace = True)"
   ]
  },
  {
   "cell_type": "code",
   "execution_count": null,
   "id": "ffb61310-c751-4cf3-b29d-11ddb56e2a83",
   "metadata": {},
   "outputs": [],
   "source": [
    "spotify.head()"
   ]
  },
  {
   "cell_type": "code",
   "execution_count": null,
   "id": "1e509b3b-60f5-4804-bfca-cead5d04f74b",
   "metadata": {},
   "outputs": [],
   "source": []
  },
  {
   "cell_type": "code",
   "execution_count": null,
   "id": "6fc678ea-613b-4017-b0d0-75c916ec46ec",
   "metadata": {},
   "outputs": [],
   "source": [
    "print(spotify.in_shazam_charts.isna().sum())\n",
    "print(spotify.key.isna().sum())"
   ]
  },
  {
   "cell_type": "code",
   "execution_count": null,
   "id": "bf47795c-dd0d-4076-89b7-4908afd0aaab",
   "metadata": {},
   "outputs": [],
   "source": [
    "spotify['in_shazam_charts'] = spotify.in_shazam_charts.fillna(0)\n",
    "# print(spotify.in_shazam_charts.unique())\n",
    "# print(spotify['key'].value_counts())"
   ]
  },
  {
   "cell_type": "code",
   "execution_count": null,
   "id": "175bac24-99d2-4b37-bdab-c3002b48b6d7",
   "metadata": {},
   "outputs": [],
   "source": [
    "spotify['in_shazam_charts'] = spotify.in_shazam_charts.astype(str).str.replace(',', '', regex = False).replace('nan', '0').astype(int)\n",
    "\n",
    "spotify['key'] = spotify.key.fillna('Unknown')"
   ]
  },
  {
   "cell_type": "code",
   "execution_count": null,
   "id": "828a3175-b2ea-44bd-988a-de73ae868f95",
   "metadata": {},
   "outputs": [],
   "source": []
  },
  {
   "cell_type": "code",
   "execution_count": null,
   "id": "a89ce32e-35d1-428f-9523-f9396fbb03f3",
   "metadata": {},
   "outputs": [],
   "source": [
    "spotify.columns"
   ]
  },
  {
   "cell_type": "code",
   "execution_count": null,
   "id": "47c36d5e-1f76-4775-9bfc-edc62de47477",
   "metadata": {},
   "outputs": [],
   "source": [
    "spotify.rename(columns = {\"artist(s)_name\" : \"artist_name\"}, inplace=True)"
   ]
  },
  {
   "cell_type": "code",
   "execution_count": null,
   "id": "9072d1d2-e52b-4dd9-b5bf-a860c45e2908",
   "metadata": {},
   "outputs": [],
   "source": [
    "pd.set_option('display.max_colwidth', 1000)\n",
    "spotify[spotify.artist_name == \"Edison Lighthouse\"]\n",
    "\n",
    "spotify.loc[spotify['artist_name'] == \"Edison Lighthouse\", 'streams'] = '0'\n",
    "spotify['streams'] = spotify.streams.astype(int)"
   ]
  },
  {
   "cell_type": "code",
   "execution_count": null,
   "id": "25ed4b2f-6a4c-4876-a997-1274c4e193f7",
   "metadata": {},
   "outputs": [],
   "source": []
  },
  {
   "cell_type": "code",
   "execution_count": null,
   "id": "0790c6e6-3e9d-4a9c-8669-f2d9cccebcef",
   "metadata": {},
   "outputs": [],
   "source": []
  },
  {
   "cell_type": "code",
   "execution_count": null,
   "id": "89319f50-b0da-4d04-9744-e1dab85c35d8",
   "metadata": {},
   "outputs": [],
   "source": []
  },
  {
   "cell_type": "markdown",
   "id": "800b8636-5216-48f7-870b-f4e9f5140ea3",
   "metadata": {},
   "source": [
    "## Questions"
   ]
  },
  {
   "cell_type": "code",
   "execution_count": null,
   "id": "6d344927-7d3e-409d-8e1d-389c068c9518",
   "metadata": {},
   "outputs": [],
   "source": [
    "# 1. What are the top 10 most streamed tracks overall?\n",
    "most_streamed_tracks = spotify[['track_name', 'artist_name', 'streams']].sort_values(by = 'streams', \n",
    "                       ascending = False).head(10)\n",
    "most_streamed_tracks"
   ]
  },
  {
   "cell_type": "code",
   "execution_count": null,
   "id": "240ffca3-91af-4656-88f7-f1f24cfa1def",
   "metadata": {},
   "outputs": [],
   "source": [
    "# 2. Which artists have the most tracks in Spotify playlists?\n",
    "artist_with_most_tracks = spotify.groupby(\"artist_name\").track_name.count().sort_values(\n",
    "                          ascending = False).head(10)\n",
    "artist_with_most_tracks"
   ]
  },
  {
   "cell_type": "code",
   "execution_count": null,
   "id": "b8f6b6fc-c318-4e79-abcf-07749ea641ec",
   "metadata": {},
   "outputs": [],
   "source": [
    "# 3. How has the number of releases changed over the years?\n",
    "spotify[\"release_year\"] = spotify.released_date.dt.year\n",
    "releases_per_year = spotify.groupby(\"release_year\").track_name.count().reset_index()\n",
    "# releases_per_year\n",
    "\n",
    "\n",
    "plt.figure(figsize = (10, 6))\n",
    "sns.lineplot(x = 'release_year', y = 'track_name', data = releases_per_year, marker = 'o')\n",
    "plt.title('Number of Track Released Every Year', fontsize = 18)\n",
    "plt.xlabel('Release Year', fontsize = 14)\n",
    "plt.ylabel('Number of Tracks Released', fontsize = 14)\n",
    "plt.grid(True)\n",
    "plt.tight_layout()\n",
    "plt.show()"
   ]
  },
  {
   "cell_type": "code",
   "execution_count": null,
   "id": "5e19a0a0-bbae-4fc0-8c6b-eab33d070b6c",
   "metadata": {},
   "outputs": [],
   "source": [
    "# 4. Which month sees the highest number of releases on average?\n",
    "spotify['released_month'] = spotify.released_date.dt.month_name()\n",
    "spotify['released_month_num'] = spotify.released_date.dt.month\n",
    "# released_month\n",
    "most_releases_monthwise = spotify.groupby(['released_month_num', 'released_month']).track_name.count().reset_index().sort_values(\n",
    "    by = 'released_month_num')\n",
    "most_releases_monthwise\n",
    "\n",
    "plt.figure(figsize = (12, 8))\n",
    "sns.lineplot(x = 'released_month', y = 'track_name', data = most_releases_monthwise, marker = 'o')\n",
    "plt.title('Number of Tracks released Every Month')\n",
    "plt.xlabel('Months')\n",
    "plt.ylabel('Number of tracks Released')\n",
    "plt.grid()\n",
    "plt.show()"
   ]
  },
  {
   "cell_type": "code",
   "execution_count": null,
   "id": "c18ebfe9-983d-49ab-b2df-1a35c9fd3dc6",
   "metadata": {},
   "outputs": [],
   "source": [
    "# 5. What is the correlation between danceability, energy, and valence?\n",
    "correlation = spotify[['danceability_%', 'energy_%', 'valence_%']].corr()\n",
    "#  +1: perfect positive correlation           0: no correlation          -1: perfect negative correlation\n",
    "\n",
    "plt.figure(figsize = (10, 8))\n",
    "sns.heatmap(correlation, vmin = -1, vmax = 1, cmap = 'coolwarm', annot = True, fmt='.2f')\n",
    "plt.title(\"Correlation between Danceability, Energy, and Valence\")\n",
    "plt.tight_layout()\n",
    "plt.show()"
   ]
  },
  {
   "cell_type": "code",
   "execution_count": null,
   "id": "aeb6dba4-47c8-4913-a83d-740ab834e620",
   "metadata": {},
   "outputs": [],
   "source": [
    "# 6. What are the average audio features (danceability, energy, etc.) by genre/artist?\n",
    "# danceability_%\tvalence_%\tenergy_%\tacousticness_%\tinstrumentalness_%\tliveness_%\tspeechiness_%\n",
    "spotify.groupby('artist_name')[['danceability_%', 'valence_%', 'energy_%', 'acousticness_%', 'instrumentalness_%', \n",
    "         'liveness_%', 'speechiness_%']].mean().reset_index()"
   ]
  },
  {
   "cell_type": "code",
   "execution_count": null,
   "id": "007dff2b-ec0c-4703-b23d-d8465fe28bf4",
   "metadata": {},
   "outputs": [],
   "source": [
    "# 7. How do audio features differ between top 100 and bottom 100 streamed songs?\n",
    "top_100 = spotify.sort_values('streams', ascending = False).head(100)\n",
    "bottom_100 = spotify.sort_values('streams', ascending = True).head(100)\n",
    "\n",
    "audio_features = ['danceability_%',\t'valence_%', 'energy_%', 'acousticness_%', 'instrumentalness_%',\n",
    "                  'liveness_%',\t'speechiness_%']\n",
    "\n",
    "top_avg = top_100[audio_features].mean().to_frame(name = 'Top 100')\n",
    "bottom_avg = bottom_100[audio_features].mean().to_frame(name = 'Bottom 100')\n",
    "differ = pd.concat([top_avg, bottom_avg], axis = 1)\n",
    "\n",
    "differ.plot(kind='bar', figsize=(12, 8))\n",
    "plt.title('Average Audio Features: Top 100 vs Bottom 100 Streamed Tracks')\n",
    "plt.xlabel('Audio Features')\n",
    "plt.ylabel('Average Percentage')\n",
    "plt.xticks(rotation=45)\n",
    "plt.legend()\n",
    "plt.grid()\n",
    "plt.show()"
   ]
  },
  {
   "cell_type": "code",
   "execution_count": null,
   "id": "f8df4ef5-c75e-4b45-bee8-0196cf49ce1d",
   "metadata": {},
   "outputs": [],
   "source": [
    "# 8. Distribution of BPMs across all songs.\n",
    "plt.figure(figsize=(10, 6))\n",
    "sns.histplot(spotify.bpm, bins=30, kde=True, color='skyblue', edgecolor='black')\n",
    "plt.title('Distribution of BPM Across All Songs', fontsize=16)\n",
    "plt.xlabel('BPM (Beats Per Minute)', fontsize=12)\n",
    "plt.ylabel('Number of Songs', fontsize=12)\n",
    "plt.grid(True)\n",
    "plt.tight_layout()\n",
    "plt.show()"
   ]
  },
  {
   "cell_type": "code",
   "execution_count": null,
   "id": "855f1348-917d-406e-9464-e35e92b70722",
   "metadata": {},
   "outputs": [],
   "source": [
    "# 9. Which keys (musical) are most common in popular tracks?\n",
    "popular_tracks = spotify.sort_values('streams', ascending = False).head(100)\n",
    "# popular_tracks\n",
    "most_common_keys = popular_tracks['key'].value_counts().sort_values(ascending = False)\n",
    "\n",
    "sns.barplot(x = most_common_keys.index, y = most_common_keys.values, hue = most_common_keys.index, \n",
    "            palette = 'viridis')\n",
    "plt.title('Most Common Keys in Top 100 Streamed Tracks', fontsize = 16)\n",
    "plt.xlabel('Musical Keys')\n",
    "plt.ylabel('Number of Tracks')\n",
    "plt.xticks(rotation = 45)\n",
    "plt.grid(axis = 'y')\n",
    "plt.show()"
   ]
  },
  {
   "cell_type": "code",
   "execution_count": null,
   "id": "d1dba587-13a0-4d77-9411-66fe074359b2",
   "metadata": {},
   "outputs": [],
   "source": [
    "# 10. Compare the average streams for songs released in different years.\n",
    "avg_streams = spotify.groupby('release_year').streams.mean().reset_index()\n",
    "avg_streams\n",
    "\n",
    "plt.figure(figsize=(12, 6))\n",
    "sns.lineplot(data=avg_streams, x='release_year', y='streams', marker='o')\n",
    "plt.title('Average Streams by Release Year', fontsize=16)\n",
    "plt.xlabel('Release Year')\n",
    "plt.ylabel('Average Streams')\n",
    "plt.grid(True)\n",
    "plt.show()"
   ]
  },
  {
   "cell_type": "code",
   "execution_count": null,
   "id": "9b49fdd9-9921-4da1-8e68-25db20b655f2",
   "metadata": {},
   "outputs": [],
   "source": [
    "# 11. Do songs with high instrumentalness get fewer streams?\n",
    "# spotify['instrumentalness_%'].describe()\n",
    "# min is 0 and max is 91\n",
    "\n",
    "bins = [0 ,20, 40, 60, 80, 100]\n",
    "labels = ['0 - 20', '20 - 40', '40 - 60', '60 - 80', '80-100']\n",
    "spotify['instrumentalness_bin'] = pd.cut(spotify['instrumentalness_%'], bins = bins, labels=labels,\n",
    "                                        include_lowest=True)\n",
    "\n",
    "avg_streams = spotify.groupby('instrumentalness_bin',  observed=True).streams.mean().reset_index()\n",
    "avg_streams\n",
    "\n",
    "plt.figure(figsize=(10, 6))\n",
    "sns.barplot(data=avg_streams, x='instrumentalness_bin', y='streams', hue = 'instrumentalness_bin', palette='magma')\n",
    "plt.title('Average Streams vs Instrumentalness Levels')\n",
    "plt.xlabel('Instrumentalness % Range')\n",
    "plt.ylabel('Average Streams')\n",
    "plt.grid(True, axis='y')\n",
    "plt.tight_layout()\n",
    "plt.show()\n"
   ]
  },
  {
   "cell_type": "code",
   "execution_count": null,
   "id": "9111ab4a-c5e3-49c5-8895-7f4eb49928b1",
   "metadata": {},
   "outputs": [],
   "source": [
    "# 12. Are songs with higher speechiness more likely to appear in charts?\n",
    "bins = [0 ,20, 40, 60, 80, 100]\n",
    "labels = ['0 - 20', '20 - 40', '40 - 60', '60 - 80', '80 - 100']\n",
    "spotify['speech_bins'] = pd.cut(spotify['speechiness_%'], bins = bins, labels = labels, include_lowest = True)\n",
    "spotify.speech_bins\n",
    "\n",
    "speechiness_charts = spotify.groupby('speech_bins', observed = True)[['in_spotify_charts', \n",
    "                'in_apple_charts', 'in_deezer_charts', 'in_shazam_charts']].mean().reset_index()\n",
    "speechiness_charts\n",
    "\n",
    "plt.figure(figsize = (12, 6))\n",
    "sns.lineplot(data = speechiness_charts, x = 'speech_bins', y = 'in_spotify_charts', \n",
    "             marker = 'o', label = 'Spotify Chart')\n",
    "sns.lineplot(data = speechiness_charts, x = 'speech_bins', y = 'in_apple_charts', \n",
    "             marker = 'o', label = 'Apple Chart')\n",
    "sns.lineplot(data = speechiness_charts, x = 'speech_bins', y = 'in_deezer_charts', \n",
    "             marker = 'o', label = 'Deezer Chart')\n",
    "sns.lineplot(data = speechiness_charts, x = 'speech_bins', y = 'in_shazam_charts', \n",
    "             marker = 'o', label = 'Shazam Chart')\n",
    "plt.title('Speechiness Chart Appearances')\n",
    "plt.xlabel('Speechiness % Range')\n",
    "plt.ylabel('Avg Charts')\n",
    "plt.grid()\n",
    "plt.legend()\n",
    "plt.show()"
   ]
  },
  {
   "cell_type": "code",
   "execution_count": null,
   "id": "406e2be7-63b1-4a63-8df3-2abebcd95869",
   "metadata": {},
   "outputs": [],
   "source": [
    "# 13. What is the relationship between acousticness and valence?\n",
    "correlation = spotify[['acousticness_%', 'valence_%']].corr()\n",
    "correlation              # -1 perfect negative correlation  0 no correlation   1 perfect positive correlation \n",
    "\n",
    "plt.figure(figsize = (14, 8))\n",
    "sns.heatmap(data = correlation, vmin = -1, vmax = 1, cmap = 'coolwarm', annot = True, fmt='.2f')\n",
    "plt.title('Correlation between Accoustic and Valence Music', fontsize = 18)\n",
    "plt.show()"
   ]
  },
  {
   "cell_type": "code",
   "execution_count": null,
   "id": "03d6982f-93a3-4d3c-a422-8fbcd669bc3a",
   "metadata": {},
   "outputs": [],
   "source": [
    "# 14. Top 10 songs that appear in both Apple and Spotify playlists.\n",
    "top_tracks = spotify[['track_name', 'in_spotify_charts', 'in_apple_charts']].copy()\n",
    "top_tracks.drop_duplicates(subset='track_name', inplace = True)\n",
    "\n",
    "top_tracks = top_tracks[(top_tracks['in_spotify_charts'] > 0) & (top_tracks['in_apple_charts'] > 0)]\n",
    "top_tracks['top_playlists'] = top_tracks['in_spotify_charts'] + top_tracks['in_apple_charts']\n",
    "\n",
    "top_10_songs = top_tracks.sort_values('top_playlists', ascending = False).head(10)\n",
    "top_10_songs\n",
    "\n",
    "plt.figure(figsize=(12, 8))\n",
    "sns.barplot(data=top_10_songs, x='track_name', y='top_playlists')\n",
    "plt.xticks(rotation=90)\n",
    "plt.title('Top 10 Songs in Both Apple and Spotify Charts', fontsize = 16)\n",
    "plt.grid()\n",
    "plt.show()"
   ]
  },
  {
   "cell_type": "code",
   "execution_count": null,
   "id": "47f5ed70-31b2-492a-b5b1-303b0dca7506",
   "metadata": {},
   "outputs": [],
   "source": [
    "# 15. Identify and plot outliers in terms of streams.\n",
    "# print(spotify.streams.sort_values().unique())\n",
    "# print(spotify.streams.describe())\n",
    "\n",
    "spotify['streams'] = pd.to_numeric(spotify['streams'], errors='coerce')\n",
    "q1 = spotify['streams'].quantile(0.25)\n",
    "q3 = spotify['streams'].quantile(0.75)\n",
    "IQR = q3 - q1\n",
    "\n",
    "lower_bound = q1 - (1.5 * IQR)\n",
    "upper_bound = q3 + (1.5 * IQR)\n",
    "\n",
    "outliers = spotify[(spotify['streams'] < lower_bound) | (spotify['streams'] > upper_bound)]\n",
    "outliers[['track_name', 'artist_name', 'streams']]\n",
    "\n",
    "plt.figure(figsize=(12, 6))\n",
    "sns.stripplot(data=spotify, x='streams', color='green', alpha=0.3, label='All Songs')\n",
    "sns.stripplot(data=outliers, x='streams', color='red', label = 'Outliers')\n",
    "plt.title('Outliers In Terms of Streams')\n",
    "plt.xlabel('Streams')\n",
    "plt.ylabel('Songs')\n",
    "plt.grid(axis = 'y')\n",
    "plt.legend()\n",
    "plt.show()"
   ]
  },
  {
   "cell_type": "code",
   "execution_count": null,
   "id": "25dbf19d-fe41-47a7-9826-fc9bea0d79f5",
   "metadata": {},
   "outputs": [],
   "source": []
  },
  {
   "cell_type": "code",
   "execution_count": null,
   "id": "6d094de5-50a3-44cd-97f0-d2aa9971b470",
   "metadata": {},
   "outputs": [],
   "source": []
  },
  {
   "cell_type": "code",
   "execution_count": null,
   "id": "6f48c71b-0464-4c54-9fc5-98c4ea690ca7",
   "metadata": {},
   "outputs": [],
   "source": []
  },
  {
   "cell_type": "code",
   "execution_count": null,
   "id": "c2959926-c7d9-4520-82dd-f042ea673537",
   "metadata": {},
   "outputs": [],
   "source": []
  },
  {
   "cell_type": "code",
   "execution_count": null,
   "id": "ca69ed8a-15d0-403a-93f3-53d12dafe951",
   "metadata": {},
   "outputs": [],
   "source": []
  }
 ],
 "metadata": {
  "kernelspec": {
   "display_name": "Python [conda env:fullstack-ds]",
   "language": "python",
   "name": "conda-env-fullstack-ds-py"
  },
  "language_info": {
   "codemirror_mode": {
    "name": "ipython",
    "version": 3
   },
   "file_extension": ".py",
   "mimetype": "text/x-python",
   "name": "python",
   "nbconvert_exporter": "python",
   "pygments_lexer": "ipython3",
   "version": "3.11.9"
  }
 },
 "nbformat": 4,
 "nbformat_minor": 5
}
